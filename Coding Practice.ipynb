{
 "cells": [
  {
   "cell_type": "code",
   "execution_count": 1,
   "metadata": {},
   "outputs": [],
   "source": [
    "# Top N Competitors\n",
    "from collections import OrderedDict\n",
    "from itertools import islice\n",
    "\n",
    "def nItemsList(n, iterable):\n",
    "    \"Return first n items of the iterable as a list\"\n",
    "    return list(islice(iterable, n))\n",
    "\n",
    "def getTopCompetitors(numCompetitors, topNCompetitors, competitors, numReviews, reviews):\n",
    "    # creating a dictionary to store all competitors in it with intial value as '0'\n",
    "    competitors_dict = {}\n",
    "    for i in range(len(competitors)):\n",
    "        competitors_dict[competitors[i].lower()] = 0\n",
    "        \n",
    "    for review in reviews:\n",
    "        for key, value in competitors_dict.items():\n",
    "            if key in review.lower():\n",
    "                competitors_dict[key] += 1\n",
    "    \n",
    "    filtered_competitors_dict = {k: v for k, v in competitors_dict.items() if v != 0}\n",
    "    competitors_descending = OrderedDict(sorted(filtered_competitors_dict.items(), key=lambda kv: kv[1], reverse=True))\n",
    "    \n",
    "    topNCompetitorsList =[]\n",
    "    #if topNCompetitors > len(competitors_descending):\n",
    "        #topNCompetitorsList = list(competitors_descending.keys())\n",
    "    #else:\n",
    "    topNCompetitorsList = nItemsList(topNCompetitors, competitors_descending.keys())\n",
    "    return topNCompetitorsList"
   ]
  },
  {
   "cell_type": "code",
   "execution_count": 2,
   "metadata": {},
   "outputs": [
    {
     "name": "stdout",
     "output_type": "stream",
     "text": [
      "['newshop', 'afshion', 'fashionbeats', 'mymarket']\n"
     ]
    }
   ],
   "source": [
    "print(getTopCompetitors(6, 5, [\"Newshop\", \"shopnow\", \"afshion\", \"fasHionbeats\", \"mymarket\", \"Tcellular\"],6,\n",
    "                        [\"newshop is afshion providing good services in the city; everyone should use newshop\", \"best services by newshop\", \"fashionbeats has great services in the city\", \"i am proud to have fashionbeats\", \"mymarket has awesome services\", \"Thanks Newshop for the quick delivery afshion\"]))"
   ]
  },
  {
   "cell_type": "code",
   "execution_count": 3,
   "metadata": {},
   "outputs": [
    {
     "name": "stdout",
     "output_type": "stream",
     "text": [
      "['newshop', 'fashionbeats']\n"
     ]
    }
   ],
   "source": [
    "print(getTopCompetitors(6, 2, [\"Newshop\", \"shopnow\", \"afshion\", \"fasHionbeats\", \"mymarket\", \"Tcellular\"],6,\n",
    "                        [\"newshop is providing good services in the city; everyone should use newshop\", \"best services by newshop\", \"fashionbeats has great services in the city\", \"i am proud to have fashionbeats\", \"mymarket has awesome services\", \"Thanks Newshop for the quick delivery\"]))"
   ]
  },
  {
   "cell_type": "code",
   "execution_count": 4,
   "metadata": {},
   "outputs": [],
   "source": [
    "# Most common words\n",
    "from collections import OrderedDict\n",
    "import re\n",
    "\n",
    "def mostCommonWord(paragraph, banned) -> str:\n",
    "    #words = paragraph.lower().replace(',', '').split(\" \")\n",
    "    #paragraph_lower = paragraph.lower()\n",
    "    words = re.sub(r\"[^a-zA-Z0-9]+\", ' ', paragraph).lower().split(\" \")\n",
    "    #print(words)\n",
    "    words_dict = dict()\n",
    "    for word in words:\n",
    "        if word in words_dict:\n",
    "            words_dict[word] += 1\n",
    "        else:\n",
    "            words_dict[word] = 1\n",
    "    \n",
    "    filtered_words_dict = {k: v for k, v in words_dict.items() if k not in banned}\n",
    "    \n",
    "    words_descending = OrderedDict(sorted(filtered_words_dict.items(), key=lambda kv: kv[1], reverse=True))\n",
    "    result =''\n",
    "    if len(words_descending) > 0:\n",
    "        result = list(words_descending.keys())[0]\n",
    "    return result"
   ]
  },
  {
   "cell_type": "code",
   "execution_count": 5,
   "metadata": {},
   "outputs": [
    {
     "name": "stdout",
     "output_type": "stream",
     "text": [
      "ball\n"
     ]
    }
   ],
   "source": [
    "print(mostCommonWord(\"Bob hit a ball, the hit BALL flew far after it was hit.\", ['hit']))"
   ]
  },
  {
   "cell_type": "code",
   "execution_count": 6,
   "metadata": {},
   "outputs": [
    {
     "data": {
      "text/plain": [
       "'webs great thing-ok'"
      ]
     },
     "execution_count": 6,
     "metadata": {},
     "output_type": "execute_result"
    }
   ],
   "source": [
    "import re\n",
    "\n",
    "my_string = \"Web's GReat thing-ok\"\n",
    "new_string = re.sub('[^A-z0-9 -]', '', my_string).lower()\n",
    "new_string"
   ]
  },
  {
   "cell_type": "code",
   "execution_count": 7,
   "metadata": {},
   "outputs": [],
   "source": [
    "# Top K Frequent Elements\n",
    "def topKFrequent(nums, k):\n",
    "    nums_dict = dict()\n",
    "    for num in nums:\n",
    "        if num in nums_dict:\n",
    "            nums_dict[num] += 1\n",
    "        else:\n",
    "            nums_dict[num] = 1\n",
    "                \n",
    "    nums_descending = OrderedDict(sorted(nums_dict.items(), key=lambda kv: kv[1], reverse=True))\n",
    "    kMostFrequentElements =[]\n",
    "    kMostFrequentElements = nItemsList(k, nums_descending.keys())\n",
    "    return kMostFrequentElements"
   ]
  },
  {
   "cell_type": "code",
   "execution_count": 8,
   "metadata": {},
   "outputs": [
    {
     "name": "stdout",
     "output_type": "stream",
     "text": [
      "[1, 2]\n"
     ]
    }
   ],
   "source": [
    "print(topKFrequent([1,1,1,2,2,3], 2))"
   ]
  },
  {
   "cell_type": "code",
   "execution_count": 9,
   "metadata": {},
   "outputs": [],
   "source": [
    "# Find The Rank\n",
    "def rank(matrix, n):\n",
    "    if len(matrix) <= 0:\n",
    "        return -1\n",
    "    for i in range(len(matrix)):\n",
    "        matrix[i] =  [sum(matrix[i]), i]\n",
    "\n",
    "    copy = sorted(matrix, reverse = True, key=lambda x: (x[0], - x[1]))\n",
    "    if n <= len(matrix):\n",
    "        return copy[n-1][1]\n",
    "    else: \n",
    "        return -1"
   ]
  },
  {
   "cell_type": "code",
   "execution_count": 10,
   "metadata": {},
   "outputs": [
    {
     "data": {
      "text/plain": [
       "0"
      ]
     },
     "execution_count": 10,
     "metadata": {},
     "output_type": "execute_result"
    }
   ],
   "source": [
    "rank([[79,89,15],[71,96,88],[85,89,92],[71,96,88],[71,96,99], [71,96,88]],6)"
   ]
  },
  {
   "cell_type": "code",
   "execution_count": 11,
   "metadata": {},
   "outputs": [],
   "source": [
    "# Reorder Data in Log Files\n",
    "def reorderLogFiles(logs):\n",
    "    letterLog = list()\n",
    "    digitsLog = list()\n",
    "    for log in logs:\n",
    "        test = log.split(\" \")\n",
    "        if test[1].isdigit():\n",
    "            digitsLog.append(log)\n",
    "        else:\n",
    "            letterLog.append(log)\n",
    "    \n",
    "    finalSortedList = sorted(letterLog, key=lambda x: \" \".join(x.split()[1:] )+ \" \" + x.split()[0] )\n",
    "    finalSortedList.extend(digitsLog)\n",
    "    return finalSortedList"
   ]
  },
  {
   "cell_type": "code",
   "execution_count": 12,
   "metadata": {},
   "outputs": [
    {
     "name": "stdout",
     "output_type": "stream",
     "text": [
      "act car g1\n"
     ]
    }
   ],
   "source": [
    "str1 = \"g1 act car\"\n",
    "print(\" \".join(str1.split()[1:]) +  \" \"   + str1.split()[0])"
   ]
  },
  {
   "cell_type": "code",
   "execution_count": 13,
   "metadata": {},
   "outputs": [
    {
     "name": "stdout",
     "output_type": "stream",
     "text": [
      "['a2 act car', 'g1 act car', 'a8 act zoo', 'ab1 off key dog', 'a1 9 2 3 1', 'zo4 4 7']\n"
     ]
    }
   ],
   "source": [
    "print(reorderLogFiles([\"a1 9 2 3 1\",\"g1 act car\",\"zo4 4 7\",\"ab1 off key dog\",\"a8 act zoo\",\"a2 act car\"]))"
   ]
  },
  {
   "cell_type": "code",
   "execution_count": 14,
   "metadata": {},
   "outputs": [],
   "source": [
    "from numpy import inf\n",
    "\n",
    "#  Optimal Utilization\n",
    "def findPairs(a, b, target):\n",
    "    sorted_a = sorted(a, key=lambda x: x[1])\n",
    "    sorted_b = sorted(b, key=lambda x: x[1])\n",
    "    current_difference = float(inf)\n",
    "    output = list()\n",
    "    l, r = 0, len(b)-1\n",
    "    while l < len(a) and r >= 0:\n",
    "        id1, i = sorted_a[l]\n",
    "        id2, j = sorted_b[r]\n",
    "        if target-i-j == current_difference: \n",
    "            output.append([id1,id2])\n",
    "        elif i+j <= target and target-i-j < current_difference:\n",
    "            output.clear()\n",
    "            output.append([id1,id2])\n",
    "            current_difference = target-i-j\n",
    "        \n",
    "        if target > i+j:\n",
    "            l += 1\n",
    "        else:\n",
    "            r -= 1\n",
    "            \n",
    "    return output"
   ]
  },
  {
   "cell_type": "code",
   "execution_count": 15,
   "metadata": {},
   "outputs": [
    {
     "name": "stdout",
     "output_type": "stream",
     "text": [
      "[[2, 1]]\n",
      "[[2, 4], [3, 2]]\n",
      "[[3, 1]]\n",
      "[[1, 3], [3, 2]]\n"
     ]
    }
   ],
   "source": [
    "print(findPairs([[1, 2], [2, 4], [3, 6]], [[1, 2]], 7))\n",
    "print(findPairs([[1, 3], [2, 5], [3, 7], [4, 10]], [[1, 2], [2, 3], [3, 4], [4, 5]], 10))\n",
    "print(findPairs([[1, 8], [2, 7], [3, 14]], [[1, 5], [2, 10], [3, 14]], 20))\n",
    "print(findPairs([[1, 8], [2, 15], [3, 9]], [[1, 8], [2, 11], [3, 12]], 20))"
   ]
  },
  {
   "cell_type": "code",
   "execution_count": 16,
   "metadata": {},
   "outputs": [],
   "source": [
    "# Min Cost to Connect Ropes\n",
    "def minCost(ropes):\n",
    "    if len(ropes)<1:\n",
    "        return 0\n",
    "    elif len(ropes) == 1 or len(ropes) == 2:\n",
    "        return sum(ropes)\n",
    "    else:\n",
    "        minCost = 0\n",
    "        ropes.sort()\n",
    "        while len(ropes) >= 2:\n",
    "            total = ropes[0] + ropes[1]\n",
    "            ropes = ropes[2:]\n",
    "            ropes.append(total)\n",
    "            ropes.sort()\n",
    "            minCost = minCost + total\n",
    "        return minCost     "
   ]
  },
  {
   "cell_type": "code",
   "execution_count": 17,
   "metadata": {},
   "outputs": [
    {
     "name": "stdout",
     "output_type": "stream",
     "text": [
      "58\n",
      "54\n",
      "224\n",
      "20\n",
      "0\n",
      "34\n",
      "4\n"
     ]
    }
   ],
   "source": [
    "print(minCost([8, 4, 6, 12]))\n",
    "print(minCost([20, 4, 8, 2]))\n",
    "print(minCost([1, 2, 5, 10, 35, 89]))\n",
    "print(minCost([2, 2, 3, 3]))\n",
    "print(minCost([]))\n",
    "print(minCost([30,4]))\n",
    "print(minCost([4]))"
   ]
  },
  {
   "cell_type": "code",
   "execution_count": 18,
   "metadata": {},
   "outputs": [],
   "source": [
    "from numpy import inf\n",
    "\n",
    "#Find Pair With Given Sum\n",
    "def findPairWithGivenSum(nums, target):\n",
    "    if len(nums) < 1:\n",
    "        return None\n",
    "    target -= 30\n",
    "    result = dict()\n",
    "    answer = list()\n",
    "    maximumValue = float(-inf)\n",
    "    for index, value in enumerate(nums):\n",
    "        if target - value in result:\n",
    "            if target - value > maximumValue or value > maximumValue:\n",
    "                answer.clear()\n",
    "                answer.extend([result[target-value], index])\n",
    "                maximumValue = max(target - value, value)\n",
    "        else:\n",
    "            result[value] = index\n",
    "    return answer"
   ]
  },
  {
   "cell_type": "code",
   "execution_count": 19,
   "metadata": {},
   "outputs": [
    {
     "name": "stdout",
     "output_type": "stream",
     "text": [
      "[2, 3]\n",
      "[1, 5]\n",
      "[0, 2]\n",
      "[]\n"
     ]
    }
   ],
   "source": [
    "print(findPairWithGivenSum([1, 10, 25, 35, 60], 90))\n",
    "print(findPairWithGivenSum([20, 50, 40, 25, 30, 10], 90))\n",
    "print(findPairWithGivenSum([50, 20, 10, 40, 25, 30], 90))\n",
    "print(findPairWithGivenSum([1, 2], 90))"
   ]
  },
  {
   "cell_type": "code",
   "execution_count": 20,
   "metadata": {},
   "outputs": [],
   "source": [
    "# Zombie in Matrix\n",
    "def minDays(grid):\n",
    "    row, col = len(grid), len(grid[0])\n",
    "    queue = []\n",
    "    target = row * col\n",
    "    count = 0\n",
    "\n",
    "    # first find all zombies:\n",
    "    for i in range(row):\n",
    "        for j in range(col):\n",
    "            if grid[i][j] == 1:\n",
    "                queue.append((i,j))\n",
    "                count += 1\n",
    "\n",
    "    time = 0\n",
    "    dirs = [(1, 0), (-1, 0), (0, 1), (0, -1)]\n",
    "\n",
    "    # bfs\n",
    "    while queue:\n",
    "        size = len(queue)\n",
    "        if count == target:\n",
    "            return time\n",
    "        for i in range(size):\n",
    "            node = queue.pop(0)\n",
    "            for dir in dirs:\n",
    "                new_row = node[0] + dir[0]\n",
    "                new_col = node[1] + dir[1]\n",
    "                if new_row >= 0 and row > new_row and new_col >= 0 and col > new_col and grid[new_row][new_col] == 0:\n",
    "                    count += 1\n",
    "                    queue.append((new_row, new_col))\n",
    "                    grid[new_row][new_col] = 1\n",
    "\n",
    "        time += 1\n",
    "    return -1"
   ]
  },
  {
   "cell_type": "code",
   "execution_count": 21,
   "metadata": {},
   "outputs": [
    {
     "name": "stdout",
     "output_type": "stream",
     "text": [
      "2\n"
     ]
    }
   ],
   "source": [
    "print(minDays([[0, 1, 1, 0, 1], [0, 1, 0, 1, 0], [0, 0, 0, 0, 1], [0, 1, 0, 0, 0]]))"
   ]
  },
  {
   "cell_type": "code",
   "execution_count": 25,
   "metadata": {},
   "outputs": [],
   "source": [
    "#Number of Islands\n",
    "def numIslands(grid):\n",
    "    islands= 0        \n",
    "    for i in range(len(grid)):\n",
    "        for j in range(len(grid[0])):\n",
    "            if grid[i][j] == '1':\n",
    "                islands+= 1\n",
    "                DFS(i, j, grid)\n",
    "    return islands\n",
    "\n",
    "def DFS(i, j, grid):\n",
    "    grid[i][j]= '0'\n",
    "    \n",
    "    if i-1 >= 0 and grid[i-1][j] == '1':\n",
    "        DFS(i-1, j, grid)\n",
    "    \n",
    "    if i+1 < len(grid) and grid[i+1][j] == '1':\n",
    "        DFS(i+1, j, grid)\n",
    "    \n",
    "    if j+1 < len(grid[0]) and grid[i][j+1] == '1':\n",
    "        DFS(i, j+1, grid)\n",
    "    \n",
    "    if j-1 >= 0 and grid[i][j-1] == '1':\n",
    "        DFS(i, j-1, grid)"
   ]
  },
  {
   "cell_type": "code",
   "execution_count": 28,
   "metadata": {},
   "outputs": [
    {
     "name": "stdout",
     "output_type": "stream",
     "text": [
      "1\n",
      "3\n"
     ]
    }
   ],
   "source": [
    "print(numIslands([[\"1\",\"1\",\"1\",\"1\",\"0\"],[\"1\",\"1\",\"0\",\"1\",\"0\"],[\"1\",\"1\",\"0\",\"0\",\"0\"],[\"0\",\"0\",\"0\",\"0\",\"0\"]]))\n",
    "print(numIslands([[\"1\",\"1\",\"0\",\"0\",\"0\"],[\"1\",\"1\",\"0\",\"0\",\"0\"],[\"0\",\"0\",\"1\",\"0\",\"0\"],[\"0\",\"0\",\"0\",\"1\",\"1\"]]))"
   ]
  }
 ],
 "metadata": {
  "kernelspec": {
   "display_name": "Python 3",
   "language": "python",
   "name": "python3"
  },
  "language_info": {
   "codemirror_mode": {
    "name": "ipython",
    "version": 3
   },
   "file_extension": ".py",
   "mimetype": "text/x-python",
   "name": "python",
   "nbconvert_exporter": "python",
   "pygments_lexer": "ipython3",
   "version": "3.6.4"
  }
 },
 "nbformat": 4,
 "nbformat_minor": 2
}
